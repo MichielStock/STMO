{
  "cells": [
    {
      "outputs": [],
      "cell_type": "code",
      "source": [
        "using STMO\nusing Plots"
      ],
      "metadata": {},
      "execution_count": null
    },
    {
      "cell_type": "markdown",
      "source": [
        "In this chapter, we will introduce minimization problems on graphs. We will study an elementary problem in computer science: finding the *minimum spanning tree* (MST). The minimum spanning tree has plenty of real-world applications, such as designing computer-, telecommunication- or other supply networks, computer graphics, and bioinformatics. Interestingly, there are efficient algorithms that can find the minimum spanning tree for even huge problems! Along our way, we will also be getting acquainted with some new types of data structures other than simple matrices.\n\n\n# Graphs in Julia\n\nGraphs are principal tools in computer science. Most programming languages provide interfaces for graphs; Julia is no exception. A simple package for working with is [`LightGraphs.jl`](https://github.com/JuliaGraphs/LightGraphs.jl). In this course, we will limit ourselves to using the basic data structures provided by these languages, arrays, sets, and dictionaries. The type system allows us to formally encode how we will represent graph structures.\n\n```\nEdgeList{T} = Array{Tuple{T,T},1}\nWeightedEdgeList{R,T} = Array{Tuple{R,T,T},1}\nVertices{T} = Array{T,1}\nAdjList{R,T} = Dict{T,Array{Tuple{R,T},1}}\n```\n\nDon't worry if you don't fully understand the above. It makes use of the type system and it allows us to use dispatch to select the best function.\n\nConsider the following example graph:\n\n![A small example to show how to implement graphs in Julia.](Figures/graph.png)\n\nThis graph can be represented using an *adjacency list*. We do this using a `Dict`. Every vertex is a key with the adjacent vertices given as a `set` containing tuples `(weight, neighbor)`. The weight is first because this makes it easy to compare the weights of two edges. Note that for every ingoing edge, there is also an outgoing edge, this is an undirected graph."
      ],
      "metadata": {}
    },
    {
      "outputs": [],
      "cell_type": "code",
      "source": [
        "graph = Dict(\n    'A' => [(2, 'B'), (3, 'D')],\n    'B' => [(2, 'A'), (1, 'C'), (2, 'E')],\n    'C' => [(1, 'B'), (2, 'D'), (1, 'E')],\n    'D' => [(2, 'C'), (3, 'A'), (3, 'E')],\n    'E' => [(2, 'B'), (1, 'C'), (3, 'D')]\n);"
      ],
      "metadata": {},
      "execution_count": null
    },
    {
      "cell_type": "markdown",
      "source": [
        "Sometimes we will use an *edge list*, i.e., a list of (weighted) edges. The edge list is often a more compact way of storing a graph. We show the edge list for the example graph below. Note that again every edge is double: we include an in- and outgoing edge."
      ],
      "metadata": {}
    },
    {
      "outputs": [],
      "cell_type": "code",
      "source": [
        "edges = [\n (2, 'B', 'A'),\n (3, 'D', 'A'),\n (2, 'C', 'D'),\n (3, 'A', 'D'),\n (3, 'E', 'D'),\n (2, 'B', 'E'),\n (3, 'D', 'E'),\n (1, 'C', 'E'),\n (2, 'E', 'B'),\n (2, 'A', 'B'),\n (1, 'C', 'B'),\n (1, 'E', 'C'),\n (1, 'B', 'C'),\n (2, 'D', 'C')];"
      ],
      "metadata": {},
      "execution_count": null
    },
    {
      "cell_type": "markdown",
      "source": [
        "We can quickly turn one representation in the other (with a time complexity proportional to the number of edges) using the provided functions `edges2adjlist` and `adjlist2edges`."
      ],
      "metadata": {}
    },
    {
      "outputs": [],
      "cell_type": "code",
      "source": [
        "adjlist2edges(graph)"
      ],
      "metadata": {},
      "execution_count": null
    },
    {
      "outputs": [],
      "cell_type": "code",
      "source": [
        "edges2adjlist(edges)"
      ],
      "metadata": {},
      "execution_count": null
    },
    {
      "cell_type": "markdown",
      "source": [
        "# Some useful data structures\n\n## Disjoint-set data structure\n\nImplementing an algorithm for finding the minimum spanning tree is reasonably straightforward. The only bottleneck is that the algorithm requires the disjoint-set data structure to keep track of a set partitioned in several disjoined subsets.\n\nFor example, consider the following initial set of eight elements.\n\n![](Figures/disjointset1.png)\n\nWe decide to group elements A, B, and C together in a subset and F and G in another subset.\n\n![](Figures/disjointset2.png)\n\nThe disjoint-set data structure supports the following operations:\n\n- **Find**: check which subset an element is in. Is typically used to check whether two objects are in the same subset;\n- **Union** merges two subsets into a single subset.\n\nA Julia implementation of a disjoint-set is available in the `DataStructures` library. The function `DisjointSets` turns a list in a union set forest. The function `union!` will merge the sets of two elements while `in_same_set` can be used to check whether two items are in the same set. A simple example will make everything clear!"
      ],
      "metadata": {}
    },
    {
      "outputs": [],
      "cell_type": "code",
      "source": [
        "using DataStructures\n\nanimals = [\"mouse\", \"bat\", \"robin\", \"trout\", \"seagull\", \"hummingbird\",\n           \"salmon\", \"goldfish\", \"hippopotamus\", \"whale\", \"sparrow\"]\nunion_set_forest = DisjointSets(animals)"
      ],
      "metadata": {},
      "execution_count": null
    },
    {
      "outputs": [],
      "cell_type": "code",
      "source": [
        "# group mammals together\nunion!(union_set_forest, \"mouse\", \"bat\")\nunion!(union_set_forest, \"mouse\", \"hippopotamus\")\nunion!(union_set_forest, \"whale\", \"bat\")"
      ],
      "metadata": {},
      "execution_count": null
    },
    {
      "outputs": [],
      "cell_type": "code",
      "source": [
        "# group birds together\nunion!(union_set_forest, \"robin\", \"seagull\")\nunion!(union_set_forest, \"seagull\", \"sparrow\")\nunion!(union_set_forest, \"seagull\", \"hummingbird\")\nunion!(union_set_forest, \"robin\", \"hummingbird\")"
      ],
      "metadata": {},
      "execution_count": null
    },
    {
      "outputs": [],
      "cell_type": "code",
      "source": [
        "# group fishes together\nunion!(union_set_forest, \"goldfish\", \"salmon\")\nunion!(union_set_forest, \"trout\", \"salmon\")"
      ],
      "metadata": {},
      "execution_count": null
    },
    {
      "outputs": [],
      "cell_type": "code",
      "source": [
        "# mouse and whale in same subset?\nin_same_set(union_set_forest, \"mouse\", \"whale\")"
      ],
      "metadata": {},
      "execution_count": null
    },
    {
      "outputs": [],
      "cell_type": "code",
      "source": [
        "# mouse and whale in same subset?\nin_same_set(union_set_forest, \"robin\", \"salmon\")"
      ],
      "metadata": {},
      "execution_count": null
    },
    {
      "cell_type": "markdown",
      "source": [
        "## Heap queue\n\nOne can use a heap queue to find the minimum of a changing list without having to sort the list every update. Heaps are also implemented in `DataStructures`. The function `heapify!` will rearrange a list to satisisfy the heap property. `heappop!` and `heappush!` can be used to extract, resp. add, elements while maintaining the heap property."
      ],
      "metadata": {}
    },
    {
      "outputs": [],
      "cell_type": "code",
      "source": [
        "heap = [(5, 'A'), (3, 'B'), (2, 'C'), (7, 'D')]\n\nheapify!(heap)  # turn in a heap"
      ],
      "metadata": {},
      "execution_count": null
    },
    {
      "outputs": [],
      "cell_type": "code",
      "source": [
        "# return item lowest value while retaining heap property\nheappop!(heap)"
      ],
      "metadata": {},
      "execution_count": null
    },
    {
      "cell_type": "markdown",
      "source": [
        "This has changed the heap:"
      ],
      "metadata": {}
    },
    {
      "outputs": [],
      "cell_type": "code",
      "source": [
        "heap"
      ],
      "metadata": {},
      "execution_count": null
    },
    {
      "outputs": [],
      "cell_type": "code",
      "source": [
        "# add new item and retain heap prop\nheappush!(heap, (4, 'E'))"
      ],
      "metadata": {},
      "execution_count": null
    },
    {
      "cell_type": "markdown",
      "source": [
        "# Two algorithms for finding minimum spanning trees\n\n## Prim's algorithm\n\nPrim's algorithm starts with a single vertex and adds $|V|-1$ edges to it, always taking the next edge with a minimal weight that connects a vertex on the MST to a vertex not yet in the MST. Complete the code below."
      ],
      "metadata": {}
    },
    {
      "outputs": [],
      "cell_type": "code",
      "source": [
        "\"\"\"\n    prim(vertices::Vertices{T}, edges::WeightedEdgeList{R,T},\n                start::T) where {R<:Real, T}\n\nPrim's algorithm for finding the minimum spanning tree. Inputs the vertices\n(`vertices`), a list of weighted edges (`vertices`), and a starting vertex (`start`).\n\"\"\"\nfunction prim(vertices::Vertices{T}, edges::WeightedEdgeList{R,T},\n                start::T) where {R<:Real, T}\n    u = start\n    adjlist = edges2adjlist(edges)\n    ...  # complete this\n    return mst_edges, cost\nend"
      ],
      "metadata": {},
      "execution_count": null
    },
    {
      "cell_type": "markdown",
      "source": [
        "## Kruskal's algorithm\n\n\nKruskal's algorithm is a straightforward algorithm to find the minimum spanning tree. The main idea is to start with an initial 'forest' of the individual nodes of the graph. In each step of the algorithm, we add an edge with the smallest possible value that connects two disjoint trees in the forest. This process is continued until we have a single tree, which is a minimum spanning tree, or until all edges are considered. In the latter case, the algorithm returns a minimum spanning forest."
      ],
      "metadata": {}
    },
    {
      "outputs": [],
      "cell_type": "code",
      "source": [
        "\"\"\"\n    kruskal(vertices::Vertices{T}, edges::WeightedEdgeList{R,T}) where {R<:Real, T}\n\nKruskal's algorithm for finding the minimum spanning tree. Inputs the vertices\n(`vertices`) and a list of weighted edges (`vertices`).\n\"\"\"\nfunction kruskal(vertices::Vertices{T}, edges::WeightedEdgeList{R,T}) where {R<:Real, T}\n    ...  # complete this\n    return mst_edges, cost\nend"
      ],
      "metadata": {},
      "execution_count": null
    },
    {
      "cell_type": "markdown",
      "source": [
        "# Ticket to ride\n\nAs an illustration, we provide the graph of the famous boardgame *Ticket To Ride* (USA version). The goal of this game is to connect two cities on a map by placing a number of trains between them. Let's load the graph!"
      ],
      "metadata": {}
    },
    {
      "outputs": [],
      "cell_type": "code",
      "source": [
        "using STMO.TicketToRide"
      ],
      "metadata": {},
      "execution_count": null
    },
    {
      "cell_type": "markdown",
      "source": [
        "All cities included."
      ],
      "metadata": {}
    },
    {
      "outputs": [],
      "cell_type": "code",
      "source": [
        "cities"
      ],
      "metadata": {},
      "execution_count": null
    },
    {
      "cell_type": "markdown",
      "source": [
        "The weighted edges. The weight represents the connection cost."
      ],
      "metadata": {}
    },
    {
      "outputs": [],
      "cell_type": "code",
      "source": [
        "tickettoride_edges"
      ],
      "metadata": {},
      "execution_count": null
    },
    {
      "cell_type": "markdown",
      "source": [
        "Let us plot this graph. We also have the coordinates of the cities in `cities_coordinates`. It is not needed to find the MST, but can help us make a draw the map."
      ],
      "metadata": {}
    },
    {
      "outputs": [],
      "cell_type": "code",
      "source": [
        "p = plot(xaxis=\"longitude\", yaxis=\"lattitude\")\n\n# add edges\nfor (w, c1, c2) in tickettoride_edges\n    x1, y1 = cities_coordinates[c1]\n    x2, y2 = cities_coordinates[c2]\n    plot!(p, [x1, x2], [y1, y2], color=myred, alpha=0.8,\n        lw=w, label=\"\")\nend\n# plot cities\nfor (city, (x, y)) in cities_coordinates\n    println(\"$city: $x, $y\")\n    scatter!(p, [x], [y], label=\"\", color=mygreen, markersize=10, alpha=0.8\n    , annotations=[(x, y, city)]  # comment this for clarity\n    )\nend\np"
      ],
      "metadata": {},
      "execution_count": null
    },
    {
      "cell_type": "markdown",
      "source": [
        "Your turn! Use the functions above to find a minimal spanning tree for this graph."
      ],
      "metadata": {}
    },
    {
      "outputs": [],
      "cell_type": "code",
      "source": [
        "# compute the minimum spanning tree of the ticket to ride data set\n..."
      ],
      "metadata": {},
      "execution_count": null
    }
  ],
  "nbformat_minor": 2,
  "metadata": {
    "language_info": {
      "file_extension": ".jl",
      "mimetype": "application/julia",
      "name": "julia",
      "version": "1.6.1"
    },
    "kernelspec": {
      "name": "julia-1.6",
      "display_name": "Julia 1.6.1",
      "language": "julia"
    }
  },
  "nbformat": 4
}
