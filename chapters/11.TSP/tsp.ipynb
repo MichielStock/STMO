{
  "cells": [
    {
      "outputs": [],
      "cell_type": "code",
      "source": [
        "using STMO\nusing STMO.TSP\nusing Plots\nusing Random: randperm"
      ],
      "metadata": {},
      "execution_count": null
    },
    {
      "cell_type": "markdown",
      "source": [
        "The traveling salesman problem (TSP) is arguably one of the best-known optimization problems. It attracts both significant theoretical as well as practical interest. In this lab, we will explore some simple heuristic algorithms to solve the TSP.\n\n# Definition\n\n> **Traveling salesman problem**: Given a list of cities and the distances between each pair of cities, find\nthe *tour* with the lowest possible total cost that visits each city exactly once and returns to\nthe origin city.\n\n-  $n$ cities $x_1,\\ldots,x_n$.\n- Cost matrix $C[x_i, x_j]$ (possibly symmetric and/or triangle inequality).\n- Search space is all permutations of cities: size of $(n-1)!$.\n- Objective function: the sum of costs of the paths.\n\n# Representation in Julia\n\nIn the STMO package, we provide the basic functionality for working with instances of the TSP. These instances are stored in a `TravelingSalesmanProblem` type. To construct an instance, one has to provide a matrix with coordinates."
      ],
      "metadata": {}
    },
    {
      "outputs": [],
      "cell_type": "code",
      "source": [
        "citycoordinates = [1.0 1.5; 2.1 0.3; -0.3 1.2; -2.0 -2.3]  # four cities in 2 dimensions\nexampletsp = TravelingSalesmanProblem(citycoordinates)"
      ],
      "metadata": {},
      "execution_count": null
    },
    {
      "cell_type": "markdown",
      "source": [
        "We have two challenging instances you can use for benchmark purposes. You can load them as follows."
      ],
      "metadata": {}
    },
    {
      "outputs": [],
      "cell_type": "code",
      "source": [
        "tsp = totoro_tsp()  # for fans of Studio Ghibli\n#tsp = got_tsp()  # for fans of Game of Thrones"
      ],
      "metadata": {},
      "execution_count": null
    },
    {
      "cell_type": "markdown",
      "source": [
        "The data can easily be accessed."
      ],
      "metadata": {}
    },
    {
      "outputs": [],
      "cell_type": "code",
      "source": [
        "n = length(tsp)  # number of cities"
      ],
      "metadata": {},
      "execution_count": null
    },
    {
      "outputs": [],
      "cell_type": "code",
      "source": [
        "coordinates(tsp)  # get the coordinates"
      ],
      "metadata": {},
      "execution_count": null
    },
    {
      "outputs": [],
      "cell_type": "code",
      "source": [
        "cities(tsp)  # get the cities"
      ],
      "metadata": {},
      "execution_count": null
    },
    {
      "outputs": [],
      "cell_type": "code",
      "source": [
        "dist(tsp)  # get distance matrix"
      ],
      "metadata": {},
      "execution_count": null
    },
    {
      "outputs": [],
      "cell_type": "code",
      "source": [
        "dist(tsp, 10, 40)  # distance between city 10 and 40"
      ],
      "metadata": {},
      "execution_count": null
    },
    {
      "cell_type": "markdown",
      "source": [
        "A given tour is just a list containing all the cities in a particular order. For example, if we visit all the cities in a given order, we have."
      ],
      "metadata": {}
    },
    {
      "outputs": [],
      "cell_type": "code",
      "source": [
        "tour = 1:n"
      ],
      "metadata": {},
      "execution_count": null
    },
    {
      "cell_type": "markdown",
      "source": [
        "We can check whether this is a valid tour (i.e., all cities are visited exactly once) using `isvalid`."
      ],
      "metadata": {}
    },
    {
      "outputs": [],
      "cell_type": "code",
      "source": [
        "isvalid(tsp, tour)  # true"
      ],
      "metadata": {},
      "execution_count": null
    },
    {
      "cell_type": "markdown",
      "source": [
        "Computing the cost of this tour is easiest using the `computecost` function:"
      ],
      "metadata": {}
    },
    {
      "outputs": [],
      "cell_type": "code",
      "source": [
        "cost = computecost(tsp, tour)"
      ],
      "metadata": {},
      "execution_count": null
    },
    {
      "cell_type": "markdown",
      "source": [
        "We might be interested in taking a look at our solution. We have the functions `plot_tour` and `plot_cities` (and their counterparts `plot_tour!` and `plot_cities!`) to do this directly."
      ],
      "metadata": {}
    },
    {
      "outputs": [],
      "cell_type": "code",
      "source": [
        "plot_tour(tsp, tour)\nplot_cities!(tsp)\ntitle!(\"A tour with a cost of $cost\")"
      ],
      "metadata": {},
      "execution_count": null
    },
    {
      "cell_type": "markdown",
      "source": [
        "It is not very good, as of yet.\n\nNote that all the keyword arguments for adjusting things like marker size and line colour.\n\n# Constructive algorithms\n\nThe constructive algorithms generate a tour directly. We will consider three that you can complete.\n\n## Nearest neighbour\n\n> **Nearest neighbors**\n> **Start** at an arbitrary city and add it to the empty tour.\n> **While** tour does not contain all cities:\n>> add the closest, not-visited city to the tour."
      ],
      "metadata": {}
    },
    {
      "outputs": [],
      "cell_type": "code",
      "source": [
        "\"\"\"\n    nearestneighbors(tsp::TravelingSalesmanProblem; start::Int)\n\nSolves the TSP using the nearest neighbors. Provide a starting city using `start`.\nIf none is provided, a random city is chosen.\n\"\"\"\nfunction nearestneighbors(tsp::TravelingSalesmanProblem; start::Int)\n    ...  # for you to complete\n    return tour, cost\nend\n\n# random start by default\nnearestneighbors(tsp::TravelingSalesmanProblem) = nearestneighbors(tsp, start=rand(cities(tsp)))"
      ],
      "metadata": {},
      "execution_count": null
    },
    {
      "cell_type": "markdown",
      "source": [
        "Since the staring city might have a big influence on the quality of the tour, it might make sense to write a function `bestnearestneighbors` that gives the best result using all or a subset of the cities as a starting point."
      ],
      "metadata": {}
    },
    {
      "outputs": [],
      "cell_type": "code",
      "source": [
        ""
      ],
      "metadata": {},
      "execution_count": null
    },
    {
      "outputs": [],
      "cell_type": "code",
      "source": [
        ""
      ],
      "metadata": {},
      "execution_count": null
    },
    {
      "outputs": [],
      "cell_type": "code",
      "source": [
        ""
      ],
      "metadata": {},
      "execution_count": null
    },
    {
      "cell_type": "markdown",
      "source": [
        "## Greedy\n\n> Consider edges in a shortest-first order, adding an edge to the solution only if it joins two subpaths into a longer subpath."
      ],
      "metadata": {}
    },
    {
      "outputs": [],
      "cell_type": "code",
      "source": [
        "\"\"\"\n    greedy(tsp::TravelingSalesmanProblem)\n\nUses the greedy algorithm to solve the TSP.\n\"\"\"\nfunction greedy(tsp::TravelingSalesmanProblem)\n    ...  # for you to complete\n    return tour, cost\nend"
      ],
      "metadata": {},
      "execution_count": null
    },
    {
      "outputs": [],
      "cell_type": "code",
      "source": [
        ""
      ],
      "metadata": {},
      "execution_count": null
    },
    {
      "outputs": [],
      "cell_type": "code",
      "source": [
        ""
      ],
      "metadata": {},
      "execution_count": null
    },
    {
      "cell_type": "markdown",
      "source": [
        "## Insertion tour\n\n> Start with a subtour and add cities at the best point.\n\nDifferent criteria for adding the next cities:\n\n- cheapest;\n- nearest;\n- farthest;\n- random."
      ],
      "metadata": {}
    },
    {
      "outputs": [],
      "cell_type": "code",
      "source": [
        "\"\"\"\n    insertion(tsp::TravelingSalesmanProblem)\n\nInserts cities in a tour at a place where it has the lowest cost.\n\nSPECIFY WHICH STRATEGY YOU ARE USING (OR LET THE USER SPECIFY IT USING A\nFUNCTION ARGUMENT)\n\"\"\"\nfunction insertion(tsp::TravelingSalesmanProblem)\n    ...  # to complete\n    return tour, cost\nend"
      ],
      "metadata": {},
      "execution_count": null
    },
    {
      "cell_type": "markdown",
      "source": [
        "# Iterative improvement algorithms\n\nRather than start from scratch, we might take a given tour (obtained by one of the above algorithms or elsewise) and improve this one. Let us discuss two types of changes we can perform and three algorithms to make use of them.\n\n## Strategies\n\nWe can *switch the place* of two cities in the tour. For this we can use the function `swap!` (caution it changes the tour). Before doing this, we can compute the change in the cost function."
      ],
      "metadata": {}
    },
    {
      "outputs": [],
      "cell_type": "code",
      "source": [
        "exampletour = [2, 3, 1, 4]\ncomputecost(exampletsp, exampletour)"
      ],
      "metadata": {},
      "execution_count": null
    },
    {
      "outputs": [],
      "cell_type": "code",
      "source": [
        "deltaswapcost(exampletsp, exampletour, 2, 3)  # change by swapping the cities at positions 2 and 3"
      ],
      "metadata": {},
      "execution_count": null
    },
    {
      "cell_type": "markdown",
      "source": [
        "This is negative, so swapping is an improvement!"
      ],
      "metadata": {}
    },
    {
      "outputs": [],
      "cell_type": "code",
      "source": [
        "swap!(exampletour, 2, 3)"
      ],
      "metadata": {},
      "execution_count": null
    },
    {
      "cell_type": "markdown",
      "source": [
        "Another mutation we consider is *flipping*, i.e., taking a path of a tour and inverting it."
      ],
      "metadata": {}
    },
    {
      "outputs": [],
      "cell_type": "code",
      "source": [
        "longertour = collect(1:10)\nflip!(longertour, 3, 7)"
      ],
      "metadata": {},
      "execution_count": null
    },
    {
      "cell_type": "markdown",
      "source": [
        "This cost can also be computed efficiently:"
      ],
      "metadata": {}
    },
    {
      "outputs": [],
      "cell_type": "code",
      "source": [
        "deltaflipcost(exampletsp, exampletour, 2, 3)  # in this case the same as swapping"
      ],
      "metadata": {},
      "execution_count": null
    },
    {
      "cell_type": "markdown",
      "source": [
        "## Hill climbing\n\nA hill climber will just go over all potential changes and do the one that results in the greatest improvement. Continue until no further improvements can be found."
      ],
      "metadata": {}
    },
    {
      "outputs": [],
      "cell_type": "code",
      "source": [
        "\"\"\"\n    hillclimbing!(tsp, tour; verbose=false, maxitter=Inf)\n\nUses hill climbing to improve a tour by finding each iteration the best path\nbetween two cities to flip.\n\"\"\"\nfunction hillclimbing!(tsp, tour; verbose=false, maxitter=Inf)\n    ...  # complete me!\n    return tour, cost\nend"
      ],
      "metadata": {},
      "execution_count": null
    },
    {
      "cell_type": "markdown",
      "source": [
        "Note that `hillclimbing!` is a function that improves a given tour. We can use dispatch to make a method that departs from a random tour."
      ],
      "metadata": {}
    },
    {
      "outputs": [],
      "cell_type": "code",
      "source": [
        "\"\"\"\n    hillclimbing(tsp; verbose=false, maxitter=Inf)\n\nUses hill climbing to improve a tour by finding each iteration the best path\nbetween two cities to flip. Starts from a random tour.\n\"\"\"\nhillclimbing(tsp; kwargs...) = hillclimbing!(tsp, randperm(length(tsp)); kwargs...)"
      ],
      "metadata": {},
      "execution_count": null
    },
    {
      "outputs": [],
      "cell_type": "code",
      "source": [
        ""
      ],
      "metadata": {},
      "execution_count": null
    },
    {
      "outputs": [],
      "cell_type": "code",
      "source": [
        ""
      ],
      "metadata": {},
      "execution_count": null
    },
    {
      "cell_type": "markdown",
      "source": [
        "## Simulated annealing\n\nSimulated annealing improves a tour by randomly proposing changes, which are accepted according to a temperature-dependent scheme."
      ],
      "metadata": {}
    },
    {
      "outputs": [],
      "cell_type": "code",
      "source": [
        "\"\"\"\n    simulatedannealing!tsp, tour;\n                    Tmax, Tmin, r, kT::Int, verbose=false)\n\nUses simulated annealing to improve a tour by finding each iteration the best path\nbetween two cities to flip.\n\"\"\"\nfunction simulatedannealing!(tsp, tour;\n                Tmax, Tmin, r, kT::Int, verbose=false)\n    ... # complete me!\n    return tour, cost\nend\n\n\nsimulatedannealing(tsp; kwargs...) = simulatedannealing!(tsp,\n                                            randperm(length(tsp)); kwargs...)"
      ],
      "metadata": {},
      "execution_count": null
    },
    {
      "outputs": [],
      "cell_type": "code",
      "source": [
        ""
      ],
      "metadata": {},
      "execution_count": null
    },
    {
      "outputs": [],
      "cell_type": "code",
      "source": [
        ""
      ],
      "metadata": {},
      "execution_count": null
    },
    {
      "cell_type": "markdown",
      "source": [
        "## Tabu search\n\nTabu search is similar to hill climbing. Though throughout the search, whenever a part of the tour is changed, it is tabood for a fixed number of steps. This means that during this period, this part cannot be changed. This behavior is a way to drive the solution away from local minima."
      ],
      "metadata": {}
    },
    {
      "outputs": [],
      "cell_type": "code",
      "source": [
        "\"\"\"\n    tabusearch!(tsp::TravelingSalesmanProblem, tour; ntabu::Int, niter::Int,\n                            verbose=false)\n\nImproves a tour by iteratively performing the best local improvement, similarly\nto `hillclimbing`. In tabu search however, after a position of the tour is\nmodified, it is blocked for `ntabu` steps. This behavior is meant to escape\nlocal minima.\n\"\"\"\nfunction tabusearch!(tsp::TravelingSalesmanProblem, tour; ntabu::Int, niter::Int,\n                            verbose=false)\n    ... # you can do it!\n    return tour, cost, costs\nend\n\ntabusearch(tsp; kwargs...) = tabusearch!(tsp, randperm(length(tsp))); kwargs...)"
      ],
      "metadata": {},
      "execution_count": null
    },
    {
      "outputs": [],
      "cell_type": "code",
      "source": [
        ""
      ],
      "metadata": {},
      "execution_count": null
    },
    {
      "outputs": [],
      "cell_type": "code",
      "source": [
        ""
      ],
      "metadata": {},
      "execution_count": null
    }
  ],
  "nbformat_minor": 2,
  "metadata": {
    "language_info": {
      "file_extension": ".jl",
      "mimetype": "application/julia",
      "name": "julia",
      "version": "1.6.1"
    },
    "kernelspec": {
      "name": "julia-1.6",
      "display_name": "Julia 1.6.1",
      "language": "julia"
    }
  },
  "nbformat": 4
}
