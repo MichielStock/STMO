{
  "cells": [
    {
      "outputs": [],
      "cell_type": "code",
      "source": [
        "using Plots"
      ],
      "metadata": {},
      "execution_count": null
    },
    {
      "cell_type": "markdown",
      "source": [
        "# Description\n\nParticle Swarm Optimization (PSO) is a stochastic metaheuristic to solve non-convex continuous optimization problems. It based on the flocking behavior of birds and insects. PSO holds a list of 'particles', containing a position and a velocity in the design space. In every step, the velocity of each particle is updated according to\n- towards the particle's personal best design point;\n- towards the best design point found over all the groups.\nThe particles' velocities are subsequently used to update their positions.\n\nSpecifically, the position $\\mathbf{x}^{(i)}$ and velocity $\\mathbf{v}^{(i)}$ of the $i$-th particle are updated according to\n\n$$\n\\mathbf{x}^{(i)} := \\mathbf{x}^{(i)} + \\mathbf{v}^{(i)}\\,,\n$$\n\n$$\n\\mathbf{v}^{(i)} := w\\mathbf{v}^{(i)} +c_1r_1 (\\mathbf{x}^{(i)}_\\text{best}-\\mathbf{x}^{(i)}) +c_2r_2 (\\mathbf{x}_\\text{best}-\\mathbf{x}^{(i)})\\,,\n$$\nwith $w$, $c_1$, $c_2$ three parameters dermining the behavior, $r_1$ and $r_2$ two random uniform numbers from the [0,1] interval and $\\mathbf{x}^{(i)}_\\text{best}$ the best design point of particle $i$ and $\\mathbf{x}_\\text{best}$ the current global best design point.\n\nBecause all particles perform both a partly independent search and share information, PSO exhibits an emerging intelligent swarming behavior.\n\n# Implementation\n\nWe will construct a new structure for particles containing their position, velocity, and best point."
      ],
      "metadata": {}
    },
    {
      "outputs": [],
      "cell_type": "code",
      "source": [
        "mutable struct Particle{T}\n    x::T\n    v::T\n    x_best::T\nend\n\nParticle(x) = Particle(x, zero(x), x)"
      ],
      "metadata": {},
      "execution_count": null
    },
    {
      "cell_type": "markdown",
      "source": [
        "Note that we use parametric typing to infer the type of our design points automatically.\n\nA simple function can generate an intial population:"
      ],
      "metadata": {}
    },
    {
      "outputs": [],
      "cell_type": "code",
      "source": [
        "\"\"\"Generate an intiation population with `n_particles` randomly positioned between the given limits.\"\"\"\ninit_population(n_particles, lims...) = [Particle([(u - l) * rand() + l for (l, u) in lims]) for i in 1:n_particles]"
      ],
      "metadata": {},
      "execution_count": null
    },
    {
      "cell_type": "markdown",
      "source": [
        "Then we can move to the bulk of the code."
      ],
      "metadata": {}
    },
    {
      "outputs": [],
      "cell_type": "code",
      "source": [
        "\"\"\"\n    particle_swarm_optimization!(f, population, k_max;\n            w=1, c1=1, c2=1, tracker=nothing)\n\nPerforms Particle Swarm Optimization to minimize a function `f`. Give an initial\nvector of particles (type `Particle`) and the `k_max`, the number of iterations.\n\nOptionally set hyperparameters `w`, `c1` and `c2` (default value of 1).\n\"\"\"\nfunction particle_swarm_optimization!(f, population, k_max;\n        w=1, c1=1, c2=1, tracker=nothing)\n    # find best point\n    y_best, x_best = minimum((((f(part.x_best), part.x_best)) for part in population))\n    for k in 1:k_max\n        # update population\n        for particle in population\n            # For you to complete\n        end\n        # this allows us to keep track of things if we want so.\n        tracker isa Nothing || tracker(population)\n    end\n    return y_best, x_best\nend"
      ],
      "metadata": {},
      "execution_count": null
    },
    {
      "cell_type": "markdown",
      "source": [
        "# Illustration\n\nWe will illustrate it on the Ackley function."
      ],
      "metadata": {}
    },
    {
      "outputs": [],
      "cell_type": "code",
      "source": [
        "using STMO.TestFuns\n\nfun = TestFuns.ackley\n\nx1lims = (-10, 10)\nx2lims = (-10, 10)\n\npobj = heatmap(-10:0.01:10, -10:0.01:10,\n                fun, color=:speed)"
      ],
      "metadata": {},
      "execution_count": null
    },
    {
      "cell_type": "markdown",
      "source": [
        "We initialize a population."
      ],
      "metadata": {}
    },
    {
      "outputs": [],
      "cell_type": "code",
      "source": [
        "population = init_population(50, x1lims, x2lims)"
      ],
      "metadata": {},
      "execution_count": null
    },
    {
      "cell_type": "markdown",
      "source": [
        "Adding the points is easy!"
      ],
      "metadata": {}
    },
    {
      "outputs": [],
      "cell_type": "code",
      "source": [
        "pobj = heatmap(-10:0.01:10, -10:0.01:10,\n                fun, color=:speed)\n\nfor particle in population\n    x = particle.x\n    scatter!([x[1]], [x[2]], color=:orange, label=\"\",\n            markersize=2)\nend\npobj"
      ],
      "metadata": {},
      "execution_count": null
    },
    {
      "cell_type": "markdown",
      "source": [
        "**Assignments**:\n1. Complete the `particle_swarm_optimization!` code.\n2. Minimize the `ackley` function (or a different one). What are the effects of the hyperparameters?\n3. (optional) Make an animation of the swarming behavior of the particles. See the [documentation](https://docs.juliaplots.org/latest/animations/) on how to do this. HINT: you might find it useful to run `particle_swarm_optimization!` for a single iteration `k_max` times."
      ],
      "metadata": {}
    }
  ],
  "nbformat_minor": 2,
  "metadata": {
    "language_info": {
      "file_extension": ".jl",
      "mimetype": "application/julia",
      "name": "julia",
      "version": "1.6.1"
    },
    "kernelspec": {
      "name": "julia-1.6",
      "display_name": "Julia 1.6.1",
      "language": "julia"
    }
  },
  "nbformat": 4
}
