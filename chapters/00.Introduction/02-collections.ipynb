{
  "cells": [
    {
      "cell_type": "markdown",
      "source": [
        "# Arrays\nLet us start with `Array`s. It is very similar to lists in Python, though it can have more than one dimension. An `Array` is defined as follows,"
      ],
      "metadata": {}
    },
    {
      "outputs": [],
      "cell_type": "code",
      "source": [
        "A = []            # empty array"
      ],
      "metadata": {},
      "execution_count": null
    },
    {
      "outputs": [],
      "cell_type": "code",
      "source": [
        "X = [1, 3, -5, 7] # array of integers"
      ],
      "metadata": {},
      "execution_count": null
    },
    {
      "cell_type": "markdown",
      "source": [
        "## Indexing and slicing\nLet's start by eating the frog. Julia uses 1-based indexing..."
      ],
      "metadata": {}
    },
    {
      "outputs": [],
      "cell_type": "code",
      "source": [
        "names = [\"Arthur\", \"Ford\", \"Zaphod\", \"Marvin\", \"Trillian\", \"Eddie\"]"
      ],
      "metadata": {},
      "execution_count": null
    },
    {
      "outputs": [],
      "cell_type": "code",
      "source": [
        "names[0]        # this does not work, sorry Pythonista's"
      ],
      "metadata": {},
      "execution_count": null
    },
    {
      "outputs": [],
      "cell_type": "code",
      "source": [
        "names[1]        # hell yeah!"
      ],
      "metadata": {},
      "execution_count": null
    },
    {
      "outputs": [],
      "cell_type": "code",
      "source": [
        "names[end]      # last element"
      ],
      "metadata": {},
      "execution_count": null
    },
    {
      "outputs": [],
      "cell_type": "code",
      "source": [
        "names[end-1]    # second to last element"
      ],
      "metadata": {},
      "execution_count": null
    },
    {
      "cell_type": "markdown",
      "source": [
        "Slicing arrays is intuitive,"
      ],
      "metadata": {}
    },
    {
      "outputs": [],
      "cell_type": "code",
      "source": [
        "names[3:6]"
      ],
      "metadata": {},
      "execution_count": null
    },
    {
      "cell_type": "markdown",
      "source": [
        "and slicing with assignment too."
      ],
      "metadata": {}
    },
    {
      "outputs": [],
      "cell_type": "code",
      "source": [
        "names[end-1:end] = [\"Slartibartfast\",\"The Whale and the Bowl of Petunias\"]"
      ],
      "metadata": {},
      "execution_count": null
    },
    {
      "outputs": [],
      "cell_type": "code",
      "source": [
        "names"
      ],
      "metadata": {},
      "execution_count": null
    },
    {
      "cell_type": "markdown",
      "source": [
        "## Types\nJulia arrays can be of mixed type."
      ],
      "metadata": {}
    },
    {
      "outputs": [],
      "cell_type": "code",
      "source": [
        "Y = [42, \"Universe\", []]"
      ],
      "metadata": {},
      "execution_count": null
    },
    {
      "cell_type": "markdown",
      "source": [
        "The type of the array changes depending on the elements that make up the array."
      ],
      "metadata": {}
    },
    {
      "outputs": [],
      "cell_type": "code",
      "source": [
        "typeof(A)"
      ],
      "metadata": {},
      "execution_count": null
    },
    {
      "outputs": [],
      "cell_type": "code",
      "source": [
        "typeof(X)"
      ],
      "metadata": {},
      "execution_count": null
    },
    {
      "outputs": [],
      "cell_type": "code",
      "source": [
        "typeof(Y)"
      ],
      "metadata": {},
      "execution_count": null
    },
    {
      "cell_type": "markdown",
      "source": [
        "When the elements of the arrays are mixed, the type is promoted to the closest common ancestor. For `Y` this is `Any`.  But an array of an integer and a float becomes an..."
      ],
      "metadata": {}
    },
    {
      "outputs": [],
      "cell_type": "code",
      "source": [
        "B = [1.1, 1]\ntypeof(B)"
      ],
      "metadata": {},
      "execution_count": null
    },
    {
      "outputs": [],
      "cell_type": "code",
      "source": [
        "eltype(B)   # gives the type of the elements"
      ],
      "metadata": {},
      "execution_count": null
    },
    {
      "cell_type": "markdown",
      "source": [
        "... array of floats.\n\nJulia allows the flexibility of having mixed types, though this will hinder performance, as the compiler can no longer optimize for the type. If you process an array of `Any`s, your code will be as slow as Python.\n\nTo create an array of a particular type, just use `Type[]`."
      ],
      "metadata": {}
    },
    {
      "outputs": [],
      "cell_type": "code",
      "source": [
        "Float64[1, 2, 3]"
      ],
      "metadata": {},
      "execution_count": null
    },
    {
      "cell_type": "markdown",
      "source": [
        "## Initialisation\nArrays can be initialized in all the classic, very Pythonesque ways."
      ],
      "metadata": {}
    },
    {
      "outputs": [],
      "cell_type": "code",
      "source": [
        "C = []  # empty\n\nzeros(5)      # row vector of 5 zeroes"
      ],
      "metadata": {},
      "execution_count": null
    },
    {
      "outputs": [],
      "cell_type": "code",
      "source": [
        "ones(3,3)     # 3X3 matrix of 1's, will be discussed later on"
      ],
      "metadata": {},
      "execution_count": null
    },
    {
      "outputs": [],
      "cell_type": "code",
      "source": [
        "fill(0.5, 10) # in case you want to fill a matrix with a specific value"
      ],
      "metadata": {},
      "execution_count": null
    },
    {
      "outputs": [],
      "cell_type": "code",
      "source": [
        "rand(2)    # row vector of 2 random floats [0,1]"
      ],
      "metadata": {},
      "execution_count": null
    },
    {
      "outputs": [],
      "cell_type": "code",
      "source": [
        "randn(2)   # same but normally-distributed random numbers"
      ],
      "metadata": {},
      "execution_count": null
    },
    {
      "cell_type": "markdown",
      "source": [
        "Sometimes it is better to provide a specific type for initialization. `Float64` is often the default."
      ],
      "metadata": {}
    },
    {
      "outputs": [],
      "cell_type": "code",
      "source": [
        "zeros(Int8, 5)"
      ],
      "metadata": {},
      "execution_count": null
    },
    {
      "cell_type": "markdown",
      "source": [
        "## Comprehensions and list-like operations\n\nComprehensions are a concise and powerful way to construct arrays and are very loved by the Python community."
      ],
      "metadata": {}
    },
    {
      "outputs": [],
      "cell_type": "code",
      "source": [
        "Y = [1, 2, 3, 4, 5, 6, 8, 9, 8, 6, 5, 4, 3, 2, 1]\nt = 0.1\ndY = [Y[i-1] - 2*Y[i] + Y[i+1] for i=2:length(Y)-1] # central difference"
      ],
      "metadata": {},
      "execution_count": null
    },
    {
      "cell_type": "markdown",
      "source": [
        "General $N$-dimensional arrays can be constructed using the following syntax:\n\n```\n[ F(x,y,...) for x=rx, y=ry, ... ]\n```\n\nNote that this is similar to using set notation. For example:"
      ],
      "metadata": {}
    },
    {
      "outputs": [],
      "cell_type": "code",
      "source": [
        "[i * j for i in 1:4, j in 1:5]"
      ],
      "metadata": {},
      "execution_count": null
    },
    {
      "cell_type": "markdown",
      "source": [
        "## Pushing, appending and popping\n\nArrays behave like a stack. Elements can be added to the back of the array,"
      ],
      "metadata": {}
    },
    {
      "outputs": [],
      "cell_type": "code",
      "source": [
        "push!(names, \"Eddie\") # add a single element"
      ],
      "metadata": {},
      "execution_count": null
    },
    {
      "outputs": [],
      "cell_type": "code",
      "source": [
        "append!(names, [\"Sam\", \"Gerard\"]) # add an array"
      ],
      "metadata": {},
      "execution_count": null
    },
    {
      "cell_type": "markdown",
      "source": [
        "\"Eddie\" was appended as the final element of the Array along with \"Sam\" and \"Gerard\". Remember, a \"!\" is used to indicate an in-place function. `pop()` is used to return and remove the final element of an array"
      ],
      "metadata": {}
    },
    {
      "outputs": [],
      "cell_type": "code",
      "source": [
        "pop!(names)"
      ],
      "metadata": {},
      "execution_count": null
    },
    {
      "cell_type": "markdown",
      "source": [
        "# Matrices\n\nLet's add a dimension and go to 2D Arrays, matrices. It is all quite straightforward,"
      ],
      "metadata": {}
    },
    {
      "outputs": [],
      "cell_type": "code",
      "source": [
        "Z = [0 1 1; 2 3 5; 8 13 21; 34 55 89]"
      ],
      "metadata": {},
      "execution_count": null
    },
    {
      "outputs": [],
      "cell_type": "code",
      "source": [
        "Z[3,2]  # indexing"
      ],
      "metadata": {},
      "execution_count": null
    },
    {
      "outputs": [],
      "cell_type": "code",
      "source": [
        "Z[1,:]  # slicing"
      ],
      "metadata": {},
      "execution_count": null
    },
    {
      "cell_type": "markdown",
      "source": [
        "It is important to know that arrays and other collections are copied by reference."
      ],
      "metadata": {}
    },
    {
      "outputs": [],
      "cell_type": "code",
      "source": [
        "R = Z"
      ],
      "metadata": {},
      "execution_count": null
    },
    {
      "outputs": [],
      "cell_type": "code",
      "source": [
        "Z"
      ],
      "metadata": {},
      "execution_count": null
    },
    {
      "outputs": [],
      "cell_type": "code",
      "source": [
        "R"
      ],
      "metadata": {},
      "execution_count": null
    },
    {
      "outputs": [],
      "cell_type": "code",
      "source": [
        "R[1,1] = 42"
      ],
      "metadata": {},
      "execution_count": null
    },
    {
      "outputs": [],
      "cell_type": "code",
      "source": [
        "Z"
      ],
      "metadata": {},
      "execution_count": null
    },
    {
      "cell_type": "markdown",
      "source": [
        "`deepcopy()` can be used to make a wholly dereferenced object.\n\n## Concatenation\nArrays can be constructed and also concatenated using the following functions,"
      ],
      "metadata": {}
    },
    {
      "outputs": [],
      "cell_type": "code",
      "source": [
        "Z = [0 1 1; 2 3 5; 8 13 21; 34 55 89]\nY = rand(4,3)"
      ],
      "metadata": {},
      "execution_count": null
    },
    {
      "outputs": [],
      "cell_type": "code",
      "source": [
        "cat(Z, Y, dims=2)                # concatenation along a specified dimension"
      ],
      "metadata": {},
      "execution_count": null
    },
    {
      "outputs": [],
      "cell_type": "code",
      "source": [
        "cat(Z, Y, dims=1) == vcat(Z,Y) == [Z;Y]   # vertical concatenation"
      ],
      "metadata": {},
      "execution_count": null
    },
    {
      "outputs": [],
      "cell_type": "code",
      "source": [
        "cat(Z,Y,dims=2) == hcat(Z,Y) == [Z Y]   # horizontal concatenation"
      ],
      "metadata": {},
      "execution_count": null
    },
    {
      "cell_type": "markdown",
      "source": [
        "Note that `;` is an operator to use `vcat`, e.g."
      ],
      "metadata": {}
    },
    {
      "outputs": [],
      "cell_type": "code",
      "source": [
        "[zeros(2, 2) ones(2, 1); ones(1, 3)]"
      ],
      "metadata": {},
      "execution_count": null
    },
    {
      "cell_type": "markdown",
      "source": [
        "This simplified syntax can lead to strange behaviour. Explain the following difference."
      ],
      "metadata": {}
    },
    {
      "outputs": [],
      "cell_type": "code",
      "source": [
        "[1  2-3]"
      ],
      "metadata": {},
      "execution_count": null
    },
    {
      "outputs": [],
      "cell_type": "code",
      "source": [
        "[1 2 -3]"
      ],
      "metadata": {},
      "execution_count": null
    },
    {
      "cell_type": "markdown",
      "source": [
        "Sometimes, `vcat` and `hcat` are better used to make the code unambiguous.\n\n## Vector operations\n\nBy default, the `*` operator is used for matrix-matrix multiplication"
      ],
      "metadata": {}
    },
    {
      "outputs": [],
      "cell_type": "code",
      "source": [
        "A = [2 4 3; 3 1 5]\nB = [ 3 10; 4 1 ;7 1]\n\nA * B"
      ],
      "metadata": {},
      "execution_count": null
    },
    {
      "cell_type": "markdown",
      "source": [
        "This is the Julian way since functions act on the objects, and element-wise operatios are done with \"dot\" operations. For every function or binary operation like `^` there is a \"dot\" operation `.^` to perform element-by-element exponentiation on arrays."
      ],
      "metadata": {}
    },
    {
      "outputs": [],
      "cell_type": "code",
      "source": [
        "Y = [10 10 10; 20 20 20]\nY.^2"
      ],
      "metadata": {},
      "execution_count": null
    },
    {
      "cell_type": "markdown",
      "source": [
        "Under the hood, Julia is looping over the elements of `Y`. So a sequence of dot-operations is fused into a single loop."
      ],
      "metadata": {}
    },
    {
      "outputs": [],
      "cell_type": "code",
      "source": [
        "Y.^2 .+ cos.(Y)"
      ],
      "metadata": {},
      "execution_count": null
    },
    {
      "cell_type": "markdown",
      "source": [
        "Did you notice that dot-operations are also applicable to functions, even user-defined functions? As programmers, we are by lazy by definition and all these dots are a lot of work. The `@.` macro does this for us."
      ],
      "metadata": {}
    },
    {
      "outputs": [],
      "cell_type": "code",
      "source": [
        "Y.^2 .+ cos.(Y) == @. Y^2 + cos(Y)"
      ],
      "metadata": {},
      "execution_count": null
    },
    {
      "cell_type": "markdown",
      "source": [
        "# Higher dimensional arrays\n\nMatrices can be generalized to multiple dimensions."
      ],
      "metadata": {}
    },
    {
      "outputs": [],
      "cell_type": "code",
      "source": [
        "X = rand(3, 3, 3)"
      ],
      "metadata": {},
      "execution_count": null
    },
    {
      "cell_type": "markdown",
      "source": [
        "# Ranges\n\nThe colon operator `:` can be used to construct unit ranges, e.g., from 1 to 20:"
      ],
      "metadata": {}
    },
    {
      "outputs": [],
      "cell_type": "code",
      "source": [
        "ur = 1:20"
      ],
      "metadata": {},
      "execution_count": null
    },
    {
      "cell_type": "markdown",
      "source": [
        "Or by increasing in steps:"
      ],
      "metadata": {}
    },
    {
      "outputs": [],
      "cell_type": "code",
      "source": [
        "str = 1:3:20"
      ],
      "metadata": {},
      "execution_count": null
    },
    {
      "cell_type": "markdown",
      "source": [
        "Similar to the `range` function in Python, the object that is created is not an array, but an iterator. This is actually the term used in Python. Julia has many different types and structs, which behave a particular way. Types of `UnitRange` only store the beginning and end value (and stepsize in the case of `StepRange`). But functions are overloaded such that it acts as arrays."
      ],
      "metadata": {}
    },
    {
      "outputs": [],
      "cell_type": "code",
      "source": [
        "for i in ur\n  println(i)\nend\n\nstr[3]\n\nlength(str)"
      ],
      "metadata": {},
      "execution_count": null
    },
    {
      "cell_type": "markdown",
      "source": [
        "All values can be obtained using `collect`:"
      ],
      "metadata": {}
    },
    {
      "outputs": [],
      "cell_type": "code",
      "source": [
        "collect(str)"
      ],
      "metadata": {},
      "execution_count": null
    },
    {
      "cell_type": "markdown",
      "source": [
        "Such implicit objects can be processed much smarter than naive structures. Compare!"
      ],
      "metadata": {}
    },
    {
      "outputs": [],
      "cell_type": "code",
      "source": [
        "@time sum((i for i in 1:100_000_000))"
      ],
      "metadata": {},
      "execution_count": null
    },
    {
      "outputs": [],
      "cell_type": "code",
      "source": [
        "@time sum(1:100_000_000)"
      ],
      "metadata": {},
      "execution_count": null
    },
    {
      "cell_type": "markdown",
      "source": [
        "`StepRange` and `UnitRange` also work with floats."
      ],
      "metadata": {}
    },
    {
      "outputs": [],
      "cell_type": "code",
      "source": [
        "0:0.1:10"
      ],
      "metadata": {},
      "execution_count": null
    },
    {
      "cell_type": "markdown",
      "source": [
        "# Other collections\n\nSome of the other collections include tuples, dictionaries, and others."
      ],
      "metadata": {}
    },
    {
      "outputs": [],
      "cell_type": "code",
      "source": [
        "tupleware = (\"tuple\", \"ware\") # tuples"
      ],
      "metadata": {},
      "execution_count": null
    },
    {
      "outputs": [],
      "cell_type": "code",
      "source": [
        "scores = Dict(\"humans\" => 2, \"vogons\" => 1) # dictionaries"
      ],
      "metadata": {},
      "execution_count": null
    },
    {
      "outputs": [],
      "cell_type": "code",
      "source": [
        "scores[\"humans\"]"
      ],
      "metadata": {},
      "execution_count": null
    },
    {
      "cell_type": "markdown",
      "source": [
        "# Exercises\n\n## Vandermonde matrix\n\nWrite a function to generate an $n \\times m$ [Vandermonde matrix](https://en.wikipedia.org/wiki/Vandermonde_matrix) for a given vector $\\alpha=[\\alpha_1,\\alpha_2,\\ldots,\\alpha_m]^T$. This matrix is defined as follows\n\n$$\n{\\displaystyle V={\\begin{bmatrix}1&\\alpha _{1}&\\alpha _{1}^{2}&\\dots &\\alpha _{1}^{n-1}\\\\1&\\alpha _{2}&\\alpha _{2}^{2}&\\dots &\\alpha _{2}^{n-1}\\\\1&\\alpha _{3}&\\alpha _{3}^{2}&\\dots &\\alpha _{3}^{n-1}\\\\\\vdots &\\vdots &\\vdots &\\ddots &\\vdots \\\\1&\\alpha _{m}&\\alpha _{m}^{2}&\\dots &\\alpha _{m}^{n-1}\\end{bmatrix}},}\n$$\n\nor\n\n$$\nV = [\\alpha_i^{j-1}] .\n$$\n\nWrite a one-liner function `vandermonde` to generate this matrix. This function takes as a vector `α` and `m`, the number of powers to compute."
      ],
      "metadata": {}
    },
    {
      "outputs": [],
      "cell_type": "code",
      "source": [
        "vandermonde(α, m) = ..."
      ],
      "metadata": {},
      "execution_count": null
    },
    {
      "cell_type": "markdown",
      "source": [
        "## Determinant\n\nWrite a function `mydet` to compute the determinant of a square matrix. Remember, for a $2 \\times 2$ matrix, the determinant is computed as\n\n$$\n{\\displaystyle|A|={\\begin{vmatrix}a&b\\\\c&d\\end{vmatrix}}=ad-bc.}\n$$\n\n\nFor larger matrices, there is a recursive way of computing the determinant based on the minors, i.e. the determinants of the submatrices. See [http://mathworld.wolfram.com/Determinant.html](http://mathworld.wolfram.com/Determinant.html).\n\nWrite a function to compute the determinant of a general square matrix."
      ],
      "metadata": {}
    },
    {
      "outputs": [],
      "cell_type": "code",
      "source": [
        "function mydet(A)\n  size(A,1) != size(A,2) && throw(DimensionMismatch)\n  ...\nend"
      ],
      "metadata": {},
      "execution_count": null
    },
    {
      "cell_type": "markdown",
      "source": [
        "## Ridge regression\n\nRidge regression can be seen as an extension of ordinary least squares regression,\n\n$$\\beta X =b\\, ,$$\n\nwhere a matrix $\\beta$ is sought which minimizes the sum of squared residuals between the model and the observations,\n\n$$SSE(\\beta) = (y - \\beta X)^T (y - \\beta X)$$\n\nIn some cases it is adviceable to add a regularisation term to this objective function,\n\n$$SSE(\\beta) = (y - \\beta X)^T (y - \\beta X) + \\lambda \\left\\lVert X \\right\\rVert^2_2 \\, , $$\n\nthis is known as ridge regression. The matrix $\\beta$ that minimises the objective function can be computed analytically.\n\n$$\\beta = \\left(X^T X + \\lambda I \\right)^{-1}X^T y$$\n\nLet us look at an example. We found some data on the evolution of human and dolphin intelligence."
      ],
      "metadata": {}
    },
    {
      "outputs": [],
      "cell_type": "code",
      "source": [
        "using Plots\n\nblue = \"#8DC0FF\"\nred = \"#FFAEA6\"\n\nt = collect(0:10:3040)\nϵ₁ = randn(length(t))*15     # noise on Dolphin IQ\nϵ₂ = randn(length(t))*20     # noise on Human IQ\n\nY₁ = dolphinsIQ = t/12 + ϵ₁\nY₂ = humanIQ = t/20 + ϵ₂\n\nscatter(t,Y₁; label=\"Dolphins\", color=blue,\n  ylabel=\"IQ (-)\", xlabel =\"Time (year BC)\", legend=:topleft)\nscatter!(t,Y₂; label=\"Humans\", color=red)"
      ],
      "metadata": {},
      "execution_count": null
    },
    {
      "cell_type": "markdown",
      "source": [
        "> \"For instance, on the planet Earth, man had always assumed that he was more intelligent than dolphins because he had achieved so much - the wheel, New York, wars and so on - whilst all the dolphins had ever  done was muck about in the water having a good time. But conversely, the dolphins had always believed that they were far more intelligent than man - for precisely the same reasons.\"\n>\n> *Hitchhikers guide to the galaxy*\n\n**Assignment:** Plot the trend of human vs. dolphin intelligence by implementing the analytical solution for ridge regression. For this, you need the uniform scaling operator `I`, found in the `LinearAlgebra` package. Use $\\lambda=0.01$."
      ],
      "metadata": {}
    },
    {
      "outputs": [],
      "cell_type": "code",
      "source": [
        "using LinearAlgebra\n\nβ₁ = #...\nβ₂ = #...\n\nY₁ = β₁*t\nY₂ = β₂*t"
      ],
      "metadata": {},
      "execution_count": null
    },
    {
      "cell_type": "markdown",
      "source": [
        "# References\n- [Julia Documentation](https://juliadocs.github.io/Julia-Cheat-Sheet/)\n- [Introduction to Julia UCI data science initiative](http://ucidatascienceinitiative.github.io/IntroToJulia/)\n- [Month of Julia](https://github.com/DataWookie/MonthOfJulia)\n- [Why I love Julia, Next Journal](https://nextjournal.com/kolia/why-i-love-julia)"
      ],
      "metadata": {}
    }
  ],
  "nbformat_minor": 2,
  "metadata": {
    "language_info": {
      "file_extension": ".jl",
      "mimetype": "application/julia",
      "name": "julia",
      "version": "1.6.1"
    },
    "kernelspec": {
      "name": "julia-1.6",
      "display_name": "Julia 1.6.1",
      "language": "julia"
    }
  },
  "nbformat": 4
}
