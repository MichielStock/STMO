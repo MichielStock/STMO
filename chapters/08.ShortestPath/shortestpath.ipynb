{
  "cells": [
    {
      "outputs": [],
      "cell_type": "code",
      "source": [
        "using STMO\nusing Plots, DataStructures"
      ],
      "metadata": {},
      "execution_count": null
    },
    {
      "cell_type": "markdown",
      "source": [
        "# Dijkstra's shortest path algorithm\n\nDijkstra's algorithm is a popular algorithm to find the shortest path between the nodes of a graph. The algorithm can be used in two ways:\n\n- when both a source and a sink node are provided, the algorithm gives the list of nodes of the shortest path, together with the length (distance of the path).\n- when only a source is given, the shortest distance between the source and all (accessable) nodes is returned together with a dictionary representing the tree of the shortest paths between the source and other nodes.\n\nThe pseudocode can be found below.\n\n## Pseudocode of Dijkstra's shortest path algorithm\nSource: Wikipedia.org\n```\n1  function Dijkstra(Graph, source, sink (optional)):\n2      distance[source] := 0  // initialize a dictionary with distance\n3                             // to source\n4      for each vertex V in Graph:\n5          if V ≠ source\n6              distance[V] := infinity\n7      previous := empty dict   // stores the previous node in path\n8\n10     make empty priority queue Q for vertices to check\n11     Q.add_with_priority(source, 0)  # first check the source\n12\n13\n14     while Q is not empty:                     // The main loop\n15         get node U with smallest distance from Q\n16         if U is the sink (if provided)\n17              break the loop\n17         for every neighbor V of U:\n18             alternative := distance[U] + dist(U, V)\n18             if alternative < distance[V]\n19                 distance[V] := alternative\n20                 previous[V] := U\n21                 Q.add_with_priority(V, alternative)\n22\n23     if sink is given\n24         reconstruct shortest path\n25         return shortest path and length of path\n26     else\n27         return distance, previous\n```\n\n## Pseudocode of path reconstruction  algorithm\n```\n1 function reconstruct_path(previous, source, sink)\n2    if the source is not in previous\n3          return empty path\n4    V := sink   \\\\ path is reconstructed backwards\n5    path := [V]  \\\\ path is a list of nodes\n6    while V is not source\n7         V := previous node in path\n8         add V in beginning of the path\n9    return the path\n```\nfrom shortestpaths import dijkstra, reconstruct_path"
      ],
      "metadata": {}
    },
    {
      "outputs": [],
      "cell_type": "code",
      "source": [
        "\"\"\"\n    dijkstra(graph::AdjList{R,T}, source::T, sink::T) where {R<:Real,T}\n\nDijkstra's shortest path algorithm.\n\nInputs:\n    - `graph` : adjacency list representing a weighted directed graph\n    - `source`\n    - `sink`\n\nOutputs:\n    - the shortest path\n    - the cost of this shortest path\n\"\"\"\nfunction dijkstra(graph::AdjList{R,T}, source::T, sink) where {R<:Real,T}\n    # initialize the tentative distances\n    distances = Dict(v => Inf for v in keys(graph))\n    distances[source] = ...\n    ...\nend"
      ],
      "metadata": {},
      "execution_count": null
    },
    {
      "outputs": [],
      "cell_type": "code",
      "source": [
        "\"\"\"\n    reconstruct_path(previous::Dict{T,T}, source::T, sink::T) where {T}\n\nReconstruct the path from the output of the Dijkstra algorithm.\n\nInputs:\n        - previous : a Dict with the previous node in the path\n        - source : the source node\n        - sink : the sink node\nOuput:\n        - the shortest path from source to sink\n\"\"\"\nfunction reconstruct_path(previous::Dict{T,T}, source::T, sink::T) where {T}\n    path = T[sink]\n    ...\n    return ...\nend"
      ],
      "metadata": {},
      "execution_count": null
    },
    {
      "cell_type": "markdown",
      "source": [
        "**Assignment 1: Dijkstra**\n\n1. Complete the implementation for Dijstra's algorithm and the path reconstruction function\n2. Find the shortest path from node A to I in the example graph below.\n3. Find the shortest path from Portland to Nashville on the Ticket to Ride graph.\n3. (optional, hard) Modify `dijkstra` such that the sink is optional. When no sink is given, the dictionary `previous` (where `previous[u] = v` indicates that the shortest path from `v` is via `u`) and `distances`, a dictionary containing the minimal distance from every node to the sink.\n\n![Example network](Figures/example_graph.png)"
      ],
      "metadata": {}
    },
    {
      "outputs": [],
      "cell_type": "code",
      "source": [
        "# the above graph as an adjacency list\ngraph = Dict('A' => [(2, 'B'), (3, 'D')],\n        'B' => [(1, 'C'), (5, 'E')],\n        'C' => [(2, 'D'), (1, 'E')],\n        'D' => [(3, 'E')],\n        'E' => [(2, 'B'), (3, 'F')],\n        'F' => [(5, 'G'), (8, 'I')],\n        'G' => [(2, 'H'), (5, 'I')],\n        'H' => [(3, 'I')],\n        'I' => [(7, 'G')]);"
      ],
      "metadata": {},
      "execution_count": null
    },
    {
      "outputs": [],
      "cell_type": "code",
      "source": [
        "dijkstra(graph, 'A', 'I')"
      ],
      "metadata": {},
      "execution_count": null
    },
    {
      "outputs": [],
      "cell_type": "code",
      "source": [
        "using STMO.TicketToRide"
      ],
      "metadata": {},
      "execution_count": null
    },
    {
      "outputs": [],
      "cell_type": "code",
      "source": [
        "tickettoride_graph"
      ],
      "metadata": {},
      "execution_count": null
    },
    {
      "cell_type": "markdown",
      "source": [
        "# A* shortest path algorithm\n\nIt is hard to explain the algorithm into more depth than [here](http://theory.stanford.edu/~amitp/GameProgramming/) and [here](http://www.redblobgames.com/pathfinding/a-star/introduction.html).\n\nThe A\\* algorithm is exact (like Dijkstra's algorithm), but it can also use a **heuristic** to speed up the search. In each iteration, the next neighbor $v$ of the current vertex that the algorithm considers is chosen based on the heuristic\n\n$$\nf(v) = g(v) + h(v)\n$$\n\nwith $g(v)$ the cost of the path so far and $h(v)$ a heuristic that estimates the cost of the cost of the shortest path from $v$ to the goal. The heuristic $h(v)$ should satify two properties:\n1. To guaranty that a shortest path is found, the heuristic should be **admissible**, i.e. it should never overestimate the true distance to goal.\n2. Evaluating the heuristic should be cheap (it is either pre-computed or is a function).\n\nSo the A\\* algorithm is basically the same as Dijkstra's algorithm, but with the main difference that the the latter chooses nodes to explore based on the distance from the starting node, while the latter chooses nodes **based on an estimate of distance to the goal**.\n\nWhen using A\\* to find the shortest path between two physical locations, each vertex corresponds to a point in space. A good heuristic is the (Euclidian) distance between the vertexs, as this will always be a lower bound for the actual distance to travel to the goal.\n\nConsider the following example of finding the path from vertex $a$ to vertex $h$.\n\n![Example how A\\* uses the heuristics](Figures/astarexample.png)\n\nThe shortest path so far is $[a, e]$ and the algorithm needs to choose to explore vertex $d$ or vertex $g$. Since the path of $ed$ is shorter than the path $eg$, Dijkstra will choose this vertex, even though it is farther removed from the goal $h$ (Dijkstra chooses a neighbor $n$ only based on the current path length form the starting vertex $g(n)$. The A\\* algorithm will chose vertex $g$ to explore, because the estimated path length $f(e) = g(e) + h(e) > f(d)$ and hence will approach the goal.\n\n## Pseudocode of A\\* shortest path algorithm\nSource from Wikipedia (modified)\n```\n1  function Astar(Graph, source, sink, heuristic):\n2      make empty priority queue Q for vertices to check\n3\n4      add source to Q with priority f(source)\n5          // use the estimated path length for priority\n6\n7      distance[V] := 0   // initialize a dictionary with distance\n8                           // to source\n9      previous := empty dict   // stores the previous node in path\n10\n11     while Q is not empty:                     // The main loop\n12         pop node U with lowest estimated path length to sink\n13         if U is the sink\n14              break the loop\n15         for every neighbor V of U:\n16             distance_source_U := distance[U] + dist(U, V)\n17             if V not in distance or distance_source_U < distance[V]\n18                 distance[V] := distance_source_U\n19                 previous[V] := U\n20                 heuristic_V_sink := distance[V] + heuristic(V)\n21                 Q.add_with_priority(V, heuristic_V_sink)\n22\n23     reconstruct shortest path\n24     return shortest path and length of path\n```\n\n\n**Assignment 2: A\\***\n\n1. Complete the implementation for the A\\* algorithm.\n2. Compute the shortest path between Portland to Nashville. The function `tickettoride_dist` returns the shortest distance (as the bird flies) between two cities.\n3. Compare running time of the two shortest path algorithms using `@time`."
      ],
      "metadata": {}
    },
    {
      "outputs": [],
      "cell_type": "code",
      "source": [
        "\"\"\"\n    a_star(graph::AdjList{R,T}, source::T, sink::T, heuristic) where {R<:Real,T}\n\nA* shortest path algorithm.\n\nInputs:\n    - `graph` : adjacency list representing a weighted directed graph\n    - `source`\n    - `sink`\n    - `heuristic` : a function that inputs a node and returns an lower bound\n            for the distance to the source. Note that a distance can be turned into\n            a heuristic using `n -> d(n, sink)`\n\nOutputs:\n    - the shortest path\n    - the cost of this shortest path\n\"\"\"\nfunction a_star(graph::AdjList{R,T}, source::T, sink::T, heuristic) where {R<:Real,T}\n    # initialize the tentative distances\n    distances = Dict(v => Inf for v in keys(graph))\n    ...\n    while ...\n        ...\nend"
      ],
      "metadata": {},
      "execution_count": null
    },
    {
      "cell_type": "markdown",
      "source": [
        "# Word problem\n\nLet us use shortest path for some word problems? What is the shortest chain from one word to another if you can only change 5 letters at a time? We will explore this on all words of length 12."
      ],
      "metadata": {}
    },
    {
      "outputs": [],
      "cell_type": "code",
      "source": [
        "using STMO.Words\n\nwords12 = getwords(12)"
      ],
      "metadata": {},
      "execution_count": null
    },
    {
      "cell_type": "markdown",
      "source": [
        "We have the function `hamming` to compute the hamming distance between two stings."
      ],
      "metadata": {}
    },
    {
      "outputs": [],
      "cell_type": "code",
      "source": [
        "w1, w2 = rand(words12, 2)"
      ],
      "metadata": {},
      "execution_count": null
    },
    {
      "outputs": [],
      "cell_type": "code",
      "source": [
        "hamming(w1, w2)"
      ],
      "metadata": {},
      "execution_count": null
    },
    {
      "cell_type": "markdown",
      "source": [
        "We can compute the weighted graph where two words are connected if they have a Hamming distance of at most 5."
      ],
      "metadata": {}
    },
    {
      "outputs": [],
      "cell_type": "code",
      "source": [
        "words_edges = getwordedges(words12, cutoff=5);\nwords_graph = edges2adjlist(words_edges)"
      ],
      "metadata": {},
      "execution_count": null
    },
    {
      "cell_type": "markdown",
      "source": [
        "**Assignment 3: word salad**\n\n1. Use Dijkstra and A* to find the distance between two randomly chosen words.\n2. Can you find the longest word chain?"
      ],
      "metadata": {}
    }
  ],
  "nbformat_minor": 2,
  "metadata": {
    "language_info": {
      "file_extension": ".jl",
      "mimetype": "application/julia",
      "name": "julia",
      "version": "1.6.1"
    },
    "kernelspec": {
      "name": "julia-1.6",
      "display_name": "Julia 1.6.1",
      "language": "julia"
    }
  },
  "nbformat": 4
}
