{
  "cells": [
    {
      "cell_type": "markdown",
      "source": [
        "In this document, we will go over some simple algorithms to solve the knapsack problem.\n\n# The knapsack problem\n\n## Problem definition\n\n> Given a set of items, each with a weight and a value, find the subset of items so that the total weight is less than or equal to a given limit and the total value is as large as possible.\n\nOr, in symbols:\n\nGiven two sets of cardinality $n$ with the values $\\{v_1,\\ldots, v_n\\}$ and the weights $\\{w_1,\\ldots, w_n\\}$ and a capacity $W>0$ we want to determine $T\\subseteq\\{1,\\ldots,n\\}$ such that\n$$\n\\max_T \\, \\sum_{i\\in T} v_i\n$$\n$$\n\\text{subject to } \\sum_{i\\in T} w_i \\leq W\\,.\n$$\n\nWe can represent this problem in Julia using a list of tuples, representing the items with their reprective values and weights, and a number containing the capacity $W$. Let us however use this opportunity to construct a simple structure to represent knapsack problems."
      ],
      "metadata": {}
    },
    {
      "outputs": [],
      "cell_type": "code",
      "source": [
        "struct Knapsack{T,V<:Real,W<:Real}\n  items::Array{Tuple{T,V,W},1}\n  capacity::W\nend"
      ],
      "metadata": {},
      "execution_count": null
    },
    {
      "cell_type": "markdown",
      "source": [
        "Consider the Indiana Jones problem:\n\n\n| i |  artifact     | $v_i$ |  $w_i$ |\n|---|---------------|-------|--------|\n| 1 |  statue 1     |   1   |  2     |\n| 2 |  statue 2     |   1   |  2     |\n| 3 |  statue 3     |   1   |  2     |\n| 4 |  tablet 1     |  10   |  5     |\n| 5 |  tablet 2     |  10   |  5     |\n| 6 |  golden mask  |  13   |  7     |\n| 7 |  golden plate |   7   |  3     |\n\n.\n\nThe capacity is 10 kg.\n\nSo we can define the instance as"
      ],
      "metadata": {}
    },
    {
      "outputs": [],
      "cell_type": "code",
      "source": [
        "knapsack = Knapsack([(\"statue 1\", 1, 2),\n                     (\"statue 2\", 1, 2),\n                     (\"statue 2\", 1, 2),\n                     (\"tablet 1\", 10, 5),\n                     (\"tablet 2\", 10, 5),\n                     (\"golden mask\", 13, 7),\n                     (\"golden plate\", 7, 3)],\n                     10)"
      ],
      "metadata": {},
      "execution_count": null
    },
    {
      "cell_type": "markdown",
      "source": [
        "We might as well define some useful function that work on `Knapsack` structures."
      ],
      "metadata": {}
    },
    {
      "outputs": [],
      "cell_type": "code",
      "source": [
        "\"\"\"Getter for the items.\"\"\"\nitems(knapsack::Knapsack) = knapsack.items\n\n\"\"\"Getter for the capacity.\"\"\"\ncapacity(knapsack::Knapsack) = knapsack.capacity\n\n\"\"\"Number of items\"\"\"\nBase.length(knapsack::Knapsack) = length(items(knapsack))\n\n\"\"\"Weight of a set of items\"\"\"\nweight(items::Array) = sum((w for (i, v, w) in items))\n\n\"\"\"Weight of an item\"\"\"\nweight(item::Tuple) = item[3]\n\n\"\"\"Value of a set of items\"\"\"\nvalue(items::Array) = sum((v for (i, v, w) in items))\n\n\"\"\"Value of an item\"\"\"\nvalue(item::Tuple) = item[2]"
      ],
      "metadata": {},
      "execution_count": null
    },
    {
      "cell_type": "markdown",
      "source": [
        "## Brute force"
      ],
      "metadata": {}
    },
    {
      "outputs": [],
      "cell_type": "code",
      "source": [
        "using Combinatorics: combinations\n\nfunction bruteforce(knapsack::Knapsack{T,V,W}) where {T,V<:Real,W<:Real}\n  # number of items\n  n = length(knapsack)\n  cap = capacity(knapsack)\n  knapsack_items = items(knapsack)\n  best_value = zero(W)\n  best_solution = eltype(knapsack_items)[]\n  for solution in combinations(knapsack_items)\n    if weight(solution) ≤ cap && value(solution) > best_value\n      best_solution = solution\n      best_value = value(solution)\n    end\n  end\n  return best_solution, best_value\nend"
      ],
      "metadata": {},
      "execution_count": null
    },
    {
      "outputs": [],
      "cell_type": "code",
      "source": [
        "bruteforce(knapsack)"
      ],
      "metadata": {},
      "execution_count": null
    },
    {
      "cell_type": "markdown",
      "source": [
        "## Greedy"
      ],
      "metadata": {}
    },
    {
      "outputs": [],
      "cell_type": "code",
      "source": [
        "function greedy(knapsack::Knapsack{T,V,W},\n                    heuristic::Function) where {T,V<:Real,W<:Real}\n  items_knapsack = items(knapsack)\n  solution = eltype(items_knapsack)[]\n  solution_weight = zero(W)\n  solution_value = zero(V)\n  cap = capacity(knapsack)\n  for item in sort(items_knapsack, by=heuristic, rev=true)\n    v, w = value(item), weight(item)\n    if solution_weight + w ≤ cap\n      push!(solution, item)\n      solution_weight += w\n      solution_value += v\n    end\n  end\n  return solution, solution_value\nend"
      ],
      "metadata": {},
      "execution_count": null
    },
    {
      "cell_type": "markdown",
      "source": [
        "Here, `heuristic` is a function we can provide to guide the greedy search. For example, if we search by value."
      ],
      "metadata": {}
    },
    {
      "outputs": [],
      "cell_type": "code",
      "source": [
        "greedy(knapsack, value)"
      ],
      "metadata": {},
      "execution_count": null
    },
    {
      "cell_type": "markdown",
      "source": [
        "Or, search lightest items first."
      ],
      "metadata": {}
    },
    {
      "outputs": [],
      "cell_type": "code",
      "source": [
        "greedy(knapsack, item -> -weight(item))"
      ],
      "metadata": {},
      "execution_count": null
    },
    {
      "cell_type": "markdown",
      "source": [
        "Or, by value-density:"
      ],
      "metadata": {}
    },
    {
      "outputs": [],
      "cell_type": "code",
      "source": [
        "greedy(knapsack, item -> value(item) / weight(item))"
      ],
      "metadata": {},
      "execution_count": null
    },
    {
      "cell_type": "markdown",
      "source": [
        "## Dynamics programming"
      ],
      "metadata": {}
    },
    {
      "outputs": [],
      "cell_type": "code",
      "source": [
        "function dynamicprogramming(knapsack::Knapsack{T,V,W}) where {T,V<:Real,W<:Int}\n  items_knapsack = items(knapsack)\n  n = length(knapsack)\n  cap = capacity(knapsack)\n  DP = zeros(V, n + 1, cap + 1)  # starts from zero\n  # fill the DP matrix\n  for w in 1:cap\n    for (i, (itname, vᵢ, wᵢ)) in enumerate(items_knapsack)\n      if wᵢ ≤ w  # this item can fit the bag\n        DP[i+1,w+1] = max(DP[i,w+1],  # value without the item\n                        DP[i,w-wᵢ+1] + vᵢ)  # value with the item, given room for the item\n      else  # no room\n        DP[i+1,w+1] = DP[i, w+1]  # take value without the item\n      end\n    end\n  end\n  # now, backtrack\n  solution = eltype(items_knapsack)[]\n  i, w = n, cap\n  while i > 0\n    if DP[i+1,w+1] > DP[i,w+1]  # item i was added\n      item = items_knapsack[i]\n      push!(solution, item)\n      w -= weight(item)\n    end\n    i -= 1\n    i == 0 || w == 0 && break\n  end\n  return solution, last(DP)\nend"
      ],
      "metadata": {},
      "execution_count": null
    },
    {
      "cell_type": "markdown",
      "source": [
        "Note the restriction on the type of the weigths!"
      ],
      "metadata": {}
    },
    {
      "outputs": [],
      "cell_type": "code",
      "source": [
        "dynamicprogramming(knapsack)"
      ],
      "metadata": {},
      "execution_count": null
    },
    {
      "cell_type": "markdown",
      "source": [
        "# Maximum cover problem\n\n> **In words** Given an universe set $U$ and a set of sets $S=\\{S_1,\\ldots,S_m\\}$ for which the union is the universe (i.e. $\\bigcup_{i=1}^mS_i = U$), find the smallest sub-collection of $T\\subseteq S$ whose union equals the universe.\n\n**Example**: if $U=\\{1,2,3,4,5\\}$ and $S=\\{\\{1,2,3\\},\\{2,4\\},\\{3,4\\},\\{4,5\\}\\}$, then $T=\\{\\{1,2,3\\},\\{4,5\\}\\}$."
      ],
      "metadata": {}
    }
  ],
  "nbformat_minor": 2,
  "metadata": {
    "language_info": {
      "file_extension": ".jl",
      "mimetype": "application/julia",
      "name": "julia",
      "version": "1.6.1"
    },
    "kernelspec": {
      "name": "julia-1.6",
      "display_name": "Julia 1.6.1",
      "language": "julia"
    }
  },
  "nbformat": 4
}
