{
 "cells": [
  {
   "cell_type": "markdown",
   "metadata": {
    "slideshow": {
     "slide_type": "slide"
    }
   },
   "source": [
    "# Using Numpy efficiently\n",
    "\n",
    "**Michiel Stock** [email](michiel.stock@ugent.be)"
   ]
  },
  {
   "cell_type": "code",
   "execution_count": 1,
   "metadata": {
    "slideshow": {
     "slide_type": "skip"
    }
   },
   "outputs": [],
   "source": [
    "import numpy as np"
   ]
  },
  {
   "cell_type": "markdown",
   "metadata": {
    "slideshow": {
     "slide_type": "slide"
    }
   },
   "source": [
    "## Vectorization\n",
    "\n",
    "- *Python*: easy to use, but very slow (at lower level)"
   ]
  },
  {
   "cell_type": "markdown",
   "metadata": {
    "slideshow": {
     "slide_type": "fragment"
    }
   },
   "source": [
    "- *C*: very hard to use and learn, but extremely fast!"
   ]
  },
  {
   "cell_type": "markdown",
   "metadata": {
    "slideshow": {
     "slide_type": "fragment"
    }
   },
   "source": [
    "- *Numpy* is a python library implemented in C"
   ]
  },
  {
   "cell_type": "markdown",
   "metadata": {
    "slideshow": {
     "slide_type": "fragment"
    }
   },
   "source": [
    "> Try to avoid for-loops in favor for implementation in pure Numpy (**faster** + **cleaner**)!"
   ]
  },
  {
   "cell_type": "markdown",
   "metadata": {
    "slideshow": {
     "slide_type": "subslide"
    }
   },
   "source": [
    "### Example: implementing the gradient of logistic loss\n",
    "\n",
    "$$\n",
    "\\nabla L(w) = \\sum_{i=1}^n (y_i - \\sigma_i)x_i\n",
    "$$"
   ]
  },
  {
   "cell_type": "code",
   "execution_count": 2,
   "metadata": {
    "slideshow": {
     "slide_type": "fragment"
    }
   },
   "outputs": [],
   "source": [
    "# make some matrices\n",
    "n, p = 1000, 100\n",
    "\n",
    "X = np.random.randn(n, p)\n",
    "y = np.random.binomial(1, 0.4, (n,))\n",
    "sigma = np.random.rand(n)"
   ]
  },
  {
   "cell_type": "code",
   "execution_count": 3,
   "metadata": {
    "slideshow": {
     "slide_type": "subslide"
    }
   },
   "outputs": [],
   "source": [
    "def gradient_for_loop():\n",
    "    grad = np.zeros((p, ))\n",
    "    for i in range(n):\n",
    "        xi = X[i,:]\n",
    "        grad = grad + (y[i] - sigma[i]) * xi\n",
    "    return grad"
   ]
  },
  {
   "cell_type": "code",
   "execution_count": 4,
   "metadata": {
    "slideshow": {
     "slide_type": "fragment"
    }
   },
   "outputs": [],
   "source": [
    "def gradient_vectorized():\n",
    "    grad = X.T @ (y - sigma)\n",
    "    return grad"
   ]
  },
  {
   "cell_type": "code",
   "execution_count": 5,
   "metadata": {
    "slideshow": {
     "slide_type": "subslide"
    }
   },
   "outputs": [
    {
     "data": {
      "text/plain": [
       "array([ -2.72351694,  35.85100845, -22.19273948, -16.22745368,\n",
       "         3.3854949 ,   6.91499947,  43.32664044, -16.83031321,\n",
       "       -11.56459956,   9.72486346])"
      ]
     },
     "execution_count": 5,
     "metadata": {},
     "output_type": "execute_result"
    }
   ],
   "source": [
    "gradient_for_loop()[:10]"
   ]
  },
  {
   "cell_type": "code",
   "execution_count": 6,
   "metadata": {
    "scrolled": false,
    "slideshow": {
     "slide_type": "fragment"
    }
   },
   "outputs": [
    {
     "data": {
      "text/plain": [
       "array([ -2.72351694,  35.85100845, -22.19273948, -16.22745368,\n",
       "         3.3854949 ,   6.91499947,  43.32664044, -16.83031321,\n",
       "       -11.56459956,   9.72486346])"
      ]
     },
     "execution_count": 6,
     "metadata": {},
     "output_type": "execute_result"
    }
   ],
   "source": [
    "gradient_vectorized()[:10]"
   ]
  },
  {
   "cell_type": "code",
   "execution_count": 7,
   "metadata": {
    "slideshow": {
     "slide_type": "subslide"
    }
   },
   "outputs": [
    {
     "name": "stdout",
     "output_type": "stream",
     "text": [
      "100 loops, best of 3: 10.8 ms per loop\n"
     ]
    }
   ],
   "source": [
    "%timeit gradient_for_loop()"
   ]
  },
  {
   "cell_type": "code",
   "execution_count": 8,
   "metadata": {
    "scrolled": true,
    "slideshow": {
     "slide_type": "fragment"
    }
   },
   "outputs": [
    {
     "name": "stdout",
     "output_type": "stream",
     "text": [
      "The slowest run took 8.68 times longer than the fastest. This could mean that an intermediate result is being cached.\n",
      "10000 loops, best of 3: 45.9 µs per loop\n"
     ]
    }
   ],
   "source": [
    "%timeit gradient_vectorized()"
   ]
  },
  {
   "cell_type": "markdown",
   "metadata": {
    "slideshow": {
     "slide_type": "slide"
    }
   },
   "source": [
    "## Broadcasting\n",
    "\n",
    "Adding, multiplying matrices in Numpy do not need to be of the same shape = broadcasting of a matrix."
   ]
  },
  {
   "cell_type": "markdown",
   "metadata": {
    "slideshow": {
     "slide_type": "subslide"
    }
   },
   "source": [
    "![Example of Broadcasting](Figures/broadcasting.png)"
   ]
  },
  {
   "cell_type": "markdown",
   "metadata": {
    "slideshow": {
     "slide_type": "subslide"
    }
   },
   "source": [
    "$$\n",
    "\\nabla L(w) = \\sum_{i=1}^n x_i x_i^\\top \\sigma_i (1-\\sigma_i)\n",
    "$$"
   ]
  },
  {
   "cell_type": "code",
   "execution_count": 9,
   "metadata": {
    "slideshow": {
     "slide_type": "subslide"
    }
   },
   "outputs": [],
   "source": [
    "def hessian_for_loop():\n",
    "    hess = np.zeros((p, p))\n",
    "    for i in range(n):\n",
    "        xi = X[i,:]\n",
    "        sigma_i = sigma[i]\n",
    "        hess = hess + xi.reshape((-1, 1)) @ xi.reshape((1, -1)) * sigma_i * (1 - sigma_i)\n",
    "    return hess"
   ]
  },
  {
   "cell_type": "code",
   "execution_count": 10,
   "metadata": {
    "slideshow": {
     "slide_type": "fragment"
    }
   },
   "outputs": [],
   "source": [
    "def hessian_broadcasting():\n",
    "    hess = (X.T * sigma * (1 - sigma)) @ X\n",
    "    return hess"
   ]
  },
  {
   "cell_type": "code",
   "execution_count": 11,
   "metadata": {
    "slideshow": {
     "slide_type": "subslide"
    }
   },
   "outputs": [
    {
     "data": {
      "text/plain": [
       "array([[ 166.59012483,   -0.49219627,   -4.07980141,   -1.37499794,\n",
       "         -10.61394254],\n",
       "       [  -0.49219627,  159.17028568,    3.6362933 ,    1.03692227,\n",
       "          -9.04167263],\n",
       "       [  -4.07980141,    3.6362933 ,  164.83099477,   -6.87522001,\n",
       "           6.57908363],\n",
       "       [  -1.37499794,    1.03692227,   -6.87522001,  167.91092752,\n",
       "         -10.5586751 ],\n",
       "       [ -10.61394254,   -9.04167263,    6.57908363,  -10.5586751 ,\n",
       "         169.80676125]])"
      ]
     },
     "execution_count": 11,
     "metadata": {},
     "output_type": "execute_result"
    }
   ],
   "source": [
    "hessian_for_loop()[:5,:][:,:5]"
   ]
  },
  {
   "cell_type": "code",
   "execution_count": 12,
   "metadata": {
    "slideshow": {
     "slide_type": "fragment"
    }
   },
   "outputs": [
    {
     "data": {
      "text/plain": [
       "array([[ 166.59012483,   -0.49219627,   -4.07980141,   -1.37499794,\n",
       "         -10.61394254],\n",
       "       [  -0.49219627,  159.17028568,    3.6362933 ,    1.03692227,\n",
       "          -9.04167263],\n",
       "       [  -4.07980141,    3.6362933 ,  164.83099477,   -6.87522001,\n",
       "           6.57908363],\n",
       "       [  -1.37499794,    1.03692227,   -6.87522001,  167.91092752,\n",
       "         -10.5586751 ],\n",
       "       [ -10.61394254,   -9.04167263,    6.57908363,  -10.5586751 ,\n",
       "         169.80676125]])"
      ]
     },
     "execution_count": 12,
     "metadata": {},
     "output_type": "execute_result"
    }
   ],
   "source": [
    "hessian_broadcasting()[:5,:][:,:5]"
   ]
  },
  {
   "cell_type": "code",
   "execution_count": 13,
   "metadata": {
    "slideshow": {
     "slide_type": "subslide"
    }
   },
   "outputs": [
    {
     "name": "stdout",
     "output_type": "stream",
     "text": [
      "10 loops, best of 3: 76.8 ms per loop\n"
     ]
    }
   ],
   "source": [
    "%timeit hessian_for_loop()"
   ]
  },
  {
   "cell_type": "code",
   "execution_count": 14,
   "metadata": {
    "scrolled": true,
    "slideshow": {
     "slide_type": "fragment"
    }
   },
   "outputs": [
    {
     "name": "stdout",
     "output_type": "stream",
     "text": [
      "100 loops, best of 3: 1.96 ms per loop\n"
     ]
    }
   ],
   "source": [
    "%timeit hessian_broadcasting()"
   ]
  },
  {
   "cell_type": "markdown",
   "metadata": {
    "slideshow": {
     "slide_type": "slide"
    }
   },
   "source": [
    "## Memory use\n",
    "\n",
    "Initializing a matrix using `np.ones`, `np.zeros`, `np.random.rand` etc. or making a new matrix **consumes memory**."
   ]
  },
  {
   "cell_type": "markdown",
   "metadata": {
    "slideshow": {
     "slide_type": "fragment"
    }
   },
   "source": [
    "> `x = x + v  #  make NEW matrix x`"
   ]
  },
  {
   "cell_type": "markdown",
   "metadata": {
    "slideshow": {
     "slide_type": "fragment"
    }
   },
   "source": [
    "> `x += v  #  update elements of x`\n",
    "\n",
    "or, equivalently,\n",
    "\n",
    "> `x[:] = x + v  #  update elements of x`"
   ]
  },
  {
   "cell_type": "code",
   "execution_count": 15,
   "metadata": {
    "slideshow": {
     "slide_type": "subslide"
    }
   },
   "outputs": [],
   "source": [
    "def replace_matrix(n_steps=100, size=(5000, 5000)):\n",
    "    x = np.zeros(size)\n",
    "    for i in range(n_steps):\n",
    "        x = x + 1  # new matrix every step\n",
    "    return x"
   ]
  },
  {
   "cell_type": "code",
   "execution_count": 16,
   "metadata": {
    "slideshow": {
     "slide_type": "fragment"
    }
   },
   "outputs": [],
   "source": [
    "def inplace_matrix(n_steps=100, size=(5000, 5000)):\n",
    "    x = np.zeros(size)\n",
    "    for i in range(n_steps):\n",
    "        x += 1  # update elements IN matrix\n",
    "    return x"
   ]
  },
  {
   "cell_type": "code",
   "execution_count": 17,
   "metadata": {
    "slideshow": {
     "slide_type": "subslide"
    }
   },
   "outputs": [
    {
     "name": "stdout",
     "output_type": "stream",
     "text": [
      "1 loop, best of 3: 17 s per loop\n"
     ]
    }
   ],
   "source": [
    "%timeit replace_matrix()"
   ]
  },
  {
   "cell_type": "code",
   "execution_count": 18,
   "metadata": {
    "slideshow": {
     "slide_type": "fragment"
    }
   },
   "outputs": [
    {
     "name": "stdout",
     "output_type": "stream",
     "text": [
      "1 loop, best of 3: 2.58 s per loop\n"
     ]
    }
   ],
   "source": [
    "%timeit inplace_matrix()"
   ]
  },
  {
   "cell_type": "code",
   "execution_count": null,
   "metadata": {},
   "outputs": [],
   "source": []
  }
 ],
 "metadata": {
  "anaconda-cloud": {},
  "kernelspec": {
   "display_name": "Python 3",
   "language": "python",
   "name": "python3"
  },
  "language_info": {
   "codemirror_mode": {
    "name": "ipython",
    "version": 3
   },
   "file_extension": ".py",
   "mimetype": "text/x-python",
   "name": "python",
   "nbconvert_exporter": "python",
   "pygments_lexer": "ipython3",
   "version": "3.5.2"
  }
 },
 "nbformat": 4,
 "nbformat_minor": 1
}
